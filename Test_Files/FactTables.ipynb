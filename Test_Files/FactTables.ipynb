{
 "cells": [
  {
   "cell_type": "code",
   "execution_count": 70,
   "id": "1f06ed78-ea60-4266-a264-269382f70d74",
   "metadata": {},
   "outputs": [],
   "source": [
    "import os\n",
    "import pyspark\n",
    "import requests\n",
    "import webbrowser\n",
    "import time\n",
    "from pyspark.sql import SparkSession\n",
    "from pyspark.sql.functions import *\n",
    "from pyspark.sql.types import *\n",
    "from pyspark.sql.streaming import StreamingQueryException\n",
    "import pandas as pd\n",
    "import numpy as np\n",
    "\n",
    "import io\n",
    "import base64\n",
    "import traceback\n",
    "\n",
    "import matplotlib.pyplot as plt\n",
    "import seaborn as sns\n",
    "\n",
    "from bokeh.io import curdoc\n",
    "from bokeh.layouts import column, gridplot\n",
    "from bokeh.models import ColumnDataSource, NumeralTickFormatter, HoverTool\n",
    "from bokeh.plotting import figure, show\n",
    "from bokeh.server.server import Server\n",
    "from bokeh.application import Application\n",
    "from bokeh.application.handlers.function import FunctionHandler\n",
    "from bokeh.palettes import Spectral10\n",
    "from bokeh.transform import factor_cmap\n",
    "import plotly.graph_objs as go\n",
    "import plotly.express as px\n",
    "\n",
    "from tornado.ioloop import IOLoop\n",
    "from tornado.netutil import bind_sockets\n",
    "\n",
    "from watchdog.observers import Observer\n",
    "from watchdog.events import LoggingEventHandler\n",
    "\n",
    "import mpld3\n",
    "\n",
    "pd.set_option('display.max_colwidth', None)\n"
   ]
  },
  {
   "cell_type": "code",
   "execution_count": 2,
   "id": "aadde51b-6465-45f2-82c5-a94b0219267d",
   "metadata": {},
   "outputs": [
    {
     "data": {
      "text/html": [
       "\n",
       "            <div>\n",
       "                <p><b>SparkSession - hive</b></p>\n",
       "                \n",
       "        <div>\n",
       "            <p><b>SparkContext</b></p>\n",
       "\n",
       "            <p><a href=\"http://itvdelab:4040\">Spark UI</a></p>\n",
       "\n",
       "            <dl>\n",
       "              <dt>Version</dt>\n",
       "                <dd><code>v2.4.8</code></dd>\n",
       "              <dt>Master</dt>\n",
       "                <dd><code>yarn</code></dd>\n",
       "              <dt>AppName</dt>\n",
       "                <dd><code>FactsSpark</code></dd>\n",
       "            </dl>\n",
       "        </div>\n",
       "        \n",
       "            </div>\n",
       "        "
      ],
      "text/plain": [
       "<pyspark.sql.session.SparkSession at 0x7f98a9e76d30>"
      ]
     },
     "execution_count": 2,
     "metadata": {},
     "output_type": "execute_result"
    }
   ],
   "source": [
    "spark = SparkSession.builder.appName(\"FactsSpark\").enableHiveSupport().getOrCreate()\n",
    "spark"
   ]
  },
  {
   "cell_type": "code",
   "execution_count": 3,
   "id": "d0755e2e-c6be-43b2-8ee9-efab605ec3a2",
   "metadata": {},
   "outputs": [
    {
     "data": {
      "text/html": [
       "<table border='1'>\n",
       "<tr><th>key</th><th>value</th></tr>\n",
       "<tr><td>hive.exec.dynamic...</td><td>nonstrict</td></tr>\n",
       "</table>\n"
      ],
      "text/plain": [
       "+--------------------+---------+\n",
       "|                 key|    value|\n",
       "+--------------------+---------+\n",
       "|hive.exec.dynamic...|nonstrict|\n",
       "+--------------------+---------+"
      ]
     },
     "execution_count": 3,
     "metadata": {},
     "output_type": "execute_result"
    }
   ],
   "source": [
    "spark.sql('''set hive.exec.dynamic.partition=true''')\n",
    "\n",
    "spark.sql('''set hive.exec.dynamic.partition.mode=nonstrict''')\n"
   ]
  },
  {
   "cell_type": "code",
   "execution_count": 4,
   "id": "b8fd90ec-0d85-4bfc-9d27-701fbddd5e0d",
   "metadata": {},
   "outputs": [
    {
     "data": {
      "text/html": [
       "<table border='1'>\n",
       "<tr><th></th></tr>\n",
       "</table>\n"
      ],
      "text/plain": [
       "++\n",
       "||\n",
       "++\n",
       "++"
      ]
     },
     "execution_count": 4,
     "metadata": {},
     "output_type": "execute_result"
    }
   ],
   "source": [
    "spark.sql(\"CREATE DATABASE IF NOT EXISTS facts\")"
   ]
  },
  {
   "cell_type": "code",
   "execution_count": 5,
   "id": "3fb457a0-66e1-4a77-9660-d5487bc127a2",
   "metadata": {},
   "outputs": [
    {
     "data": {
      "text/html": [
       "<table border='1'>\n",
       "<tr><th></th></tr>\n",
       "</table>\n"
      ],
      "text/plain": [
       "++\n",
       "||\n",
       "++\n",
       "++"
      ]
     },
     "execution_count": 5,
     "metadata": {},
     "output_type": "execute_result"
    }
   ],
   "source": [
    "spark.sql('''\n",
    "CREATE EXTERNAL TABLE IF NOT EXISTS facts.tweet_engagement_processed (\n",
    "tweet_id STRING,\n",
    "like_count INT,\n",
    "retweet_count INT, \n",
    "reply_count INT,\n",
    "qoute_count INT,\n",
    "impression_count INT,\n",
    "hashtags_count INT,\n",
    "media_count INT\n",
    ")\n",
    "LOCATION 'twitter-processed-data.tweet_engagement_processed'  ''')"
   ]
  },
  {
   "cell_type": "code",
   "execution_count": 6,
   "id": "5a9eaa92-9458-4064-975f-b560c2e572db",
   "metadata": {},
   "outputs": [
    {
     "data": {
      "text/html": [
       "<table border='1'>\n",
       "<tr><th></th></tr>\n",
       "</table>\n"
      ],
      "text/plain": [
       "++\n",
       "||\n",
       "++\n",
       "++"
      ]
     },
     "execution_count": 6,
     "metadata": {},
     "output_type": "execute_result"
    }
   ],
   "source": [
    "spark.sql('''\n",
    "\n",
    "INSERT INTO TABLE facts.tweet_engagement_processed\n",
    "SELECT\n",
    "    DISTINCT t.tweet_id,\n",
    "    t.like_count,\n",
    "    t.retweet_count,\n",
    "    t.reply_count,\n",
    "    t.qoute_count,\n",
    "    t.imperssion_count,\n",
    "    SIZE(t.hashtags_list),\n",
    "    SIZE(t.media_ids)\n",
    "FROM twitter_raw_data.tweet_data_raw t\n",
    "WHERE NOT EXISTS (\n",
    "    SELECT * FROM facts.tweet_engagement_processed f\n",
    "    WHERE f.tweet_id = t.tweet_id )\n",
    "''')"
   ]
  },
  {
   "cell_type": "code",
   "execution_count": 7,
   "id": "dd6b847b-5970-4b7c-8646-f7921c5725e4",
   "metadata": {},
   "outputs": [
    {
     "data": {
      "text/html": [
       "<div>\n",
       "<style scoped>\n",
       "    .dataframe tbody tr th:only-of-type {\n",
       "        vertical-align: middle;\n",
       "    }\n",
       "\n",
       "    .dataframe tbody tr th {\n",
       "        vertical-align: top;\n",
       "    }\n",
       "\n",
       "    .dataframe thead th {\n",
       "        text-align: right;\n",
       "    }\n",
       "</style>\n",
       "<table border=\"1\" class=\"dataframe\">\n",
       "  <thead>\n",
       "    <tr style=\"text-align: right;\">\n",
       "      <th></th>\n",
       "      <th>tweet_id</th>\n",
       "      <th>like_count</th>\n",
       "      <th>retweet_count</th>\n",
       "      <th>reply_count</th>\n",
       "      <th>qoute_count</th>\n",
       "      <th>impression_count</th>\n",
       "      <th>hashtags_count</th>\n",
       "      <th>media_count</th>\n",
       "    </tr>\n",
       "  </thead>\n",
       "  <tbody>\n",
       "    <tr>\n",
       "      <th>0</th>\n",
       "      <td>1654636587253370880</td>\n",
       "      <td>0</td>\n",
       "      <td>5290</td>\n",
       "      <td>0</td>\n",
       "      <td>0</td>\n",
       "      <td>0</td>\n",
       "      <td>0</td>\n",
       "      <td>0</td>\n",
       "    </tr>\n",
       "    <tr>\n",
       "      <th>1</th>\n",
       "      <td>1654636587253370880</td>\n",
       "      <td>0</td>\n",
       "      <td>5333</td>\n",
       "      <td>0</td>\n",
       "      <td>0</td>\n",
       "      <td>0</td>\n",
       "      <td>0</td>\n",
       "      <td>0</td>\n",
       "    </tr>\n",
       "    <tr>\n",
       "      <th>2</th>\n",
       "      <td>1654636587253370880</td>\n",
       "      <td>0</td>\n",
       "      <td>5317</td>\n",
       "      <td>0</td>\n",
       "      <td>0</td>\n",
       "      <td>0</td>\n",
       "      <td>0</td>\n",
       "      <td>0</td>\n",
       "    </tr>\n",
       "    <tr>\n",
       "      <th>3</th>\n",
       "      <td>1654636946873028608</td>\n",
       "      <td>0</td>\n",
       "      <td>913</td>\n",
       "      <td>0</td>\n",
       "      <td>0</td>\n",
       "      <td>0</td>\n",
       "      <td>0</td>\n",
       "      <td>0</td>\n",
       "    </tr>\n",
       "    <tr>\n",
       "      <th>4</th>\n",
       "      <td>1654636946873028608</td>\n",
       "      <td>0</td>\n",
       "      <td>657</td>\n",
       "      <td>0</td>\n",
       "      <td>0</td>\n",
       "      <td>0</td>\n",
       "      <td>0</td>\n",
       "      <td>0</td>\n",
       "    </tr>\n",
       "    <tr>\n",
       "      <th>...</th>\n",
       "      <td>...</td>\n",
       "      <td>...</td>\n",
       "      <td>...</td>\n",
       "      <td>...</td>\n",
       "      <td>...</td>\n",
       "      <td>...</td>\n",
       "      <td>...</td>\n",
       "      <td>...</td>\n",
       "    </tr>\n",
       "    <tr>\n",
       "      <th>2594</th>\n",
       "      <td>1653910994572439552</td>\n",
       "      <td>2</td>\n",
       "      <td>1</td>\n",
       "      <td>2</td>\n",
       "      <td>0</td>\n",
       "      <td>1</td>\n",
       "      <td>0</td>\n",
       "      <td>1</td>\n",
       "    </tr>\n",
       "    <tr>\n",
       "      <th>2595</th>\n",
       "      <td>1653911370201731075</td>\n",
       "      <td>0</td>\n",
       "      <td>79</td>\n",
       "      <td>0</td>\n",
       "      <td>0</td>\n",
       "      <td>0</td>\n",
       "      <td>0</td>\n",
       "      <td>0</td>\n",
       "    </tr>\n",
       "    <tr>\n",
       "      <th>2596</th>\n",
       "      <td>1653912092963926017</td>\n",
       "      <td>0</td>\n",
       "      <td>24412</td>\n",
       "      <td>0</td>\n",
       "      <td>0</td>\n",
       "      <td>0</td>\n",
       "      <td>0</td>\n",
       "      <td>0</td>\n",
       "    </tr>\n",
       "    <tr>\n",
       "      <th>2597</th>\n",
       "      <td>1653912262283874307</td>\n",
       "      <td>1</td>\n",
       "      <td>0</td>\n",
       "      <td>0</td>\n",
       "      <td>0</td>\n",
       "      <td>19</td>\n",
       "      <td>1</td>\n",
       "      <td>0</td>\n",
       "    </tr>\n",
       "    <tr>\n",
       "      <th>2598</th>\n",
       "      <td>1653912285105258497</td>\n",
       "      <td>0</td>\n",
       "      <td>50</td>\n",
       "      <td>0</td>\n",
       "      <td>0</td>\n",
       "      <td>0</td>\n",
       "      <td>0</td>\n",
       "      <td>0</td>\n",
       "    </tr>\n",
       "  </tbody>\n",
       "</table>\n",
       "<p>2599 rows × 8 columns</p>\n",
       "</div>"
      ],
      "text/plain": [
       "                 tweet_id  like_count  retweet_count  reply_count  \\\n",
       "0     1654636587253370880           0           5290            0   \n",
       "1     1654636587253370880           0           5333            0   \n",
       "2     1654636587253370880           0           5317            0   \n",
       "3     1654636946873028608           0            913            0   \n",
       "4     1654636946873028608           0            657            0   \n",
       "...                   ...         ...            ...          ...   \n",
       "2594  1653910994572439552           2              1            2   \n",
       "2595  1653911370201731075           0             79            0   \n",
       "2596  1653912092963926017           0          24412            0   \n",
       "2597  1653912262283874307           1              0            0   \n",
       "2598  1653912285105258497           0             50            0   \n",
       "\n",
       "      qoute_count  impression_count  hashtags_count  media_count  \n",
       "0               0                 0               0            0  \n",
       "1               0                 0               0            0  \n",
       "2               0                 0               0            0  \n",
       "3               0                 0               0            0  \n",
       "4               0                 0               0            0  \n",
       "...           ...               ...             ...          ...  \n",
       "2594            0                 1               0            1  \n",
       "2595            0                 0               0            0  \n",
       "2596            0                 0               0            0  \n",
       "2597            0                19               1            0  \n",
       "2598            0                 0               0            0  \n",
       "\n",
       "[2599 rows x 8 columns]"
      ]
     },
     "execution_count": 7,
     "metadata": {},
     "output_type": "execute_result"
    }
   ],
   "source": [
    "spark.sql(\"SELECT * FROM facts.tweet_engagement_processed\").toPandas()"
   ]
  },
  {
   "cell_type": "code",
   "execution_count": 8,
   "id": "5a767bf2-63eb-4f53-b64e-dbcd680d9fa3",
   "metadata": {},
   "outputs": [
    {
     "data": {
      "text/html": [
       "<table border='1'>\n",
       "<tr><th></th></tr>\n",
       "</table>\n"
      ],
      "text/plain": [
       "++\n",
       "||\n",
       "++\n",
       "++"
      ]
     },
     "execution_count": 8,
     "metadata": {},
     "output_type": "execute_result"
    }
   ],
   "source": [
    "spark.sql('''\n",
    "CREATE EXTERNAL TABLE IF NOT EXISTS facts.user_activity_processed (\n",
    "user_id STRING,\n",
    "tweet_count INT,\n",
    "followers_count INT, \n",
    "following_count INT\n",
    ")\n",
    "LOCATION 'twitter-processed-data.user_activity_processed'  ''')"
   ]
  },
  {
   "cell_type": "code",
   "execution_count": 9,
   "id": "337c5001-37fc-4936-9d8a-19c516df0524",
   "metadata": {},
   "outputs": [
    {
     "data": {
      "text/html": [
       "<table border='1'>\n",
       "<tr><th></th></tr>\n",
       "</table>\n"
      ],
      "text/plain": [
       "++\n",
       "||\n",
       "++\n",
       "++"
      ]
     },
     "execution_count": 9,
     "metadata": {},
     "output_type": "execute_result"
    }
   ],
   "source": [
    "spark.sql('''\n",
    "\n",
    "INSERT INTO TABLE facts.user_activity_processed\n",
    "SELECT\n",
    "    DISTINCT u.user_id,\n",
    "    u.tweet_count,\n",
    "    u.followers_count,\n",
    "    u.following_count\n",
    "FROM twitter_raw_data.user_data_raw u\n",
    "WHERE NOT EXISTS (\n",
    "    SELECT * FROM facts.user_activity_processed f\n",
    "    WHERE f.user_id = u.user_id )\n",
    "''')"
   ]
  },
  {
   "cell_type": "code",
   "execution_count": 10,
   "id": "46e180c5-fb79-4070-ad31-00fcb1ce3a7c",
   "metadata": {},
   "outputs": [
    {
     "data": {
      "text/html": [
       "<div>\n",
       "<style scoped>\n",
       "    .dataframe tbody tr th:only-of-type {\n",
       "        vertical-align: middle;\n",
       "    }\n",
       "\n",
       "    .dataframe tbody tr th {\n",
       "        vertical-align: top;\n",
       "    }\n",
       "\n",
       "    .dataframe thead th {\n",
       "        text-align: right;\n",
       "    }\n",
       "</style>\n",
       "<table border=\"1\" class=\"dataframe\">\n",
       "  <thead>\n",
       "    <tr style=\"text-align: right;\">\n",
       "      <th></th>\n",
       "      <th>user_id</th>\n",
       "      <th>tweet_count</th>\n",
       "      <th>followers_count</th>\n",
       "      <th>following_count</th>\n",
       "    </tr>\n",
       "  </thead>\n",
       "  <tbody>\n",
       "    <tr>\n",
       "      <th>0</th>\n",
       "      <td>121861357</td>\n",
       "      <td>9870.0</td>\n",
       "      <td>2582.0</td>\n",
       "      <td>3025.0</td>\n",
       "    </tr>\n",
       "    <tr>\n",
       "      <th>1</th>\n",
       "      <td>832348269040762882</td>\n",
       "      <td>35907.0</td>\n",
       "      <td>654.0</td>\n",
       "      <td>275.0</td>\n",
       "    </tr>\n",
       "    <tr>\n",
       "      <th>2</th>\n",
       "      <td>832348269040762882</td>\n",
       "      <td>35899.0</td>\n",
       "      <td>654.0</td>\n",
       "      <td>275.0</td>\n",
       "    </tr>\n",
       "    <tr>\n",
       "      <th>3</th>\n",
       "      <td>1042237547802505216</td>\n",
       "      <td>87284.0</td>\n",
       "      <td>214.0</td>\n",
       "      <td>512.0</td>\n",
       "    </tr>\n",
       "    <tr>\n",
       "      <th>4</th>\n",
       "      <td>1578152434408595461</td>\n",
       "      <td>78.0</td>\n",
       "      <td>32.0</td>\n",
       "      <td>630.0</td>\n",
       "    </tr>\n",
       "    <tr>\n",
       "      <th>...</th>\n",
       "      <td>...</td>\n",
       "      <td>...</td>\n",
       "      <td>...</td>\n",
       "      <td>...</td>\n",
       "    </tr>\n",
       "    <tr>\n",
       "      <th>2208</th>\n",
       "      <td>1082857430873042945</td>\n",
       "      <td>6108.0</td>\n",
       "      <td>30.0</td>\n",
       "      <td>159.0</td>\n",
       "    </tr>\n",
       "    <tr>\n",
       "      <th>2209</th>\n",
       "      <td>1082857430873042945</td>\n",
       "      <td>6111.0</td>\n",
       "      <td>30.0</td>\n",
       "      <td>159.0</td>\n",
       "    </tr>\n",
       "    <tr>\n",
       "      <th>2210</th>\n",
       "      <td>1635339329445699598</td>\n",
       "      <td>746.0</td>\n",
       "      <td>231.0</td>\n",
       "      <td>416.0</td>\n",
       "    </tr>\n",
       "    <tr>\n",
       "      <th>2211</th>\n",
       "      <td>798034514</td>\n",
       "      <td>441271.0</td>\n",
       "      <td>3612.0</td>\n",
       "      <td>5202.0</td>\n",
       "    </tr>\n",
       "    <tr>\n",
       "      <th>2212</th>\n",
       "      <td>81342202</td>\n",
       "      <td>14996.0</td>\n",
       "      <td>89.0</td>\n",
       "      <td>213.0</td>\n",
       "    </tr>\n",
       "  </tbody>\n",
       "</table>\n",
       "<p>2213 rows × 4 columns</p>\n",
       "</div>"
      ],
      "text/plain": [
       "                  user_id  tweet_count  followers_count  following_count\n",
       "0               121861357       9870.0           2582.0           3025.0\n",
       "1      832348269040762882      35907.0            654.0            275.0\n",
       "2      832348269040762882      35899.0            654.0            275.0\n",
       "3     1042237547802505216      87284.0            214.0            512.0\n",
       "4     1578152434408595461         78.0             32.0            630.0\n",
       "...                   ...          ...              ...              ...\n",
       "2208  1082857430873042945       6108.0             30.0            159.0\n",
       "2209  1082857430873042945       6111.0             30.0            159.0\n",
       "2210  1635339329445699598        746.0            231.0            416.0\n",
       "2211            798034514     441271.0           3612.0           5202.0\n",
       "2212             81342202      14996.0             89.0            213.0\n",
       "\n",
       "[2213 rows x 4 columns]"
      ]
     },
     "execution_count": 10,
     "metadata": {},
     "output_type": "execute_result"
    }
   ],
   "source": [
    "spark.sql(\"SELECT * FROM facts.user_activity_processed\").toPandas()"
   ]
  },
  {
   "cell_type": "code",
   "execution_count": 11,
   "id": "3775d248-7b1b-4d71-9e02-da85f37bb240",
   "metadata": {},
   "outputs": [
    {
     "data": {
      "text/html": [
       "<table border='1'>\n",
       "<tr><th></th></tr>\n",
       "</table>\n"
      ],
      "text/plain": [
       "++\n",
       "||\n",
       "++\n",
       "++"
      ]
     },
     "execution_count": 11,
     "metadata": {},
     "output_type": "execute_result"
    }
   ],
   "source": [
    "spark.sql('''\n",
    "CREATE EXTERNAL TABLE IF NOT EXISTS facts.users_tweets_processed (\n",
    "tweet_id STRING,\n",
    "user_id STRING,\n",
    "num_hashtags INT,\n",
    "num_media INT\n",
    ")\n",
    "LOCATION 'twitter-processed-data.users_tweets_processed'  ''')"
   ]
  },
  {
   "cell_type": "code",
   "execution_count": 12,
   "id": "e7d66de2-7055-436b-8d77-a1b2640769e8",
   "metadata": {},
   "outputs": [
    {
     "data": {
      "text/html": [
       "<table border='1'>\n",
       "<tr><th></th></tr>\n",
       "</table>\n"
      ],
      "text/plain": [
       "++\n",
       "||\n",
       "++\n",
       "++"
      ]
     },
     "execution_count": 12,
     "metadata": {},
     "output_type": "execute_result"
    }
   ],
   "source": [
    "spark.sql('''\n",
    "INSERT INTO TABLE facts.users_tweets_processed\n",
    "SELECT\n",
    "    t.tweet_id,\n",
    "    u.user_id,\n",
    "    size(t.hashtags_list) as num_hashtags,\n",
    "  sum(case when m.media_id is not null then 1 else 0 end) as num_media\n",
    "FROM twitter_raw_data.tweet_data_raw t\n",
    "LEFT JOIN twitter_raw_data.user_data_raw u ON t.author_id = u.user_id\n",
    "LEFT JOIN twitter_raw_data.media_data_raw m ON array_contains(t.media_ids, m.media_id)\n",
    "GROUP BY\n",
    " t.tweet_id,\n",
    " t.hashtags_list,\n",
    " u.user_id,\n",
    " m.media_id\n",
    "''')"
   ]
  },
  {
   "cell_type": "code",
   "execution_count": 13,
   "id": "e30a628e-c889-49c8-b89c-08e9822ccbf2",
   "metadata": {},
   "outputs": [
    {
     "data": {
      "text/html": [
       "<div>\n",
       "<style scoped>\n",
       "    .dataframe tbody tr th:only-of-type {\n",
       "        vertical-align: middle;\n",
       "    }\n",
       "\n",
       "    .dataframe tbody tr th {\n",
       "        vertical-align: top;\n",
       "    }\n",
       "\n",
       "    .dataframe thead th {\n",
       "        text-align: right;\n",
       "    }\n",
       "</style>\n",
       "<table border=\"1\" class=\"dataframe\">\n",
       "  <thead>\n",
       "    <tr style=\"text-align: right;\">\n",
       "      <th></th>\n",
       "      <th>tweet_id</th>\n",
       "      <th>user_id</th>\n",
       "      <th>num_hashtags</th>\n",
       "      <th>num_media</th>\n",
       "    </tr>\n",
       "  </thead>\n",
       "  <tbody>\n",
       "    <tr>\n",
       "      <th>0</th>\n",
       "      <td>1653911079322537984</td>\n",
       "      <td>3165214950</td>\n",
       "      <td>NaN</td>\n",
       "      <td>NaN</td>\n",
       "    </tr>\n",
       "    <tr>\n",
       "      <th>1</th>\n",
       "      <td>1653912117660229632</td>\n",
       "      <td>1440744771165687809</td>\n",
       "      <td>NaN</td>\n",
       "      <td>NaN</td>\n",
       "    </tr>\n",
       "    <tr>\n",
       "      <th>2</th>\n",
       "      <td>1654274520931528704</td>\n",
       "      <td>1082857430873042945</td>\n",
       "      <td>NaN</td>\n",
       "      <td>NaN</td>\n",
       "    </tr>\n",
       "    <tr>\n",
       "      <th>3</th>\n",
       "      <td>1653911962114203649</td>\n",
       "      <td>1639769861457866752</td>\n",
       "      <td>NaN</td>\n",
       "      <td>NaN</td>\n",
       "    </tr>\n",
       "    <tr>\n",
       "      <th>4</th>\n",
       "      <td>1654272361934274560</td>\n",
       "      <td>1394859094784233473</td>\n",
       "      <td>NaN</td>\n",
       "      <td>NaN</td>\n",
       "    </tr>\n",
       "    <tr>\n",
       "      <th>...</th>\n",
       "      <td>...</td>\n",
       "      <td>...</td>\n",
       "      <td>...</td>\n",
       "      <td>...</td>\n",
       "    </tr>\n",
       "    <tr>\n",
       "      <th>3449</th>\n",
       "      <td>1654636731986001922</td>\n",
       "      <td>1646478567943839746</td>\n",
       "      <td>4.0</td>\n",
       "      <td>3.0</td>\n",
       "    </tr>\n",
       "    <tr>\n",
       "      <th>3450</th>\n",
       "      <td>1654636686654189569</td>\n",
       "      <td>1049264159894851584</td>\n",
       "      <td>0.0</td>\n",
       "      <td>3.0</td>\n",
       "    </tr>\n",
       "    <tr>\n",
       "      <th>3451</th>\n",
       "      <td>1653912019400048641</td>\n",
       "      <td>1027615651043713025</td>\n",
       "      <td>2.0</td>\n",
       "      <td>1.0</td>\n",
       "    </tr>\n",
       "    <tr>\n",
       "      <th>3452</th>\n",
       "      <td>1654274478178996224</td>\n",
       "      <td>1489701364418572288</td>\n",
       "      <td>0.0</td>\n",
       "      <td>0.0</td>\n",
       "    </tr>\n",
       "    <tr>\n",
       "      <th>3453</th>\n",
       "      <td>1654274156316311553</td>\n",
       "      <td>1098680959396921344</td>\n",
       "      <td>0.0</td>\n",
       "      <td>0.0</td>\n",
       "    </tr>\n",
       "  </tbody>\n",
       "</table>\n",
       "<p>3454 rows × 4 columns</p>\n",
       "</div>"
      ],
      "text/plain": [
       "                 tweet_id              user_id  num_hashtags  num_media\n",
       "0     1653911079322537984           3165214950           NaN        NaN\n",
       "1     1653912117660229632  1440744771165687809           NaN        NaN\n",
       "2     1654274520931528704  1082857430873042945           NaN        NaN\n",
       "3     1653911962114203649  1639769861457866752           NaN        NaN\n",
       "4     1654272361934274560  1394859094784233473           NaN        NaN\n",
       "...                   ...                  ...           ...        ...\n",
       "3449  1654636731986001922  1646478567943839746           4.0        3.0\n",
       "3450  1654636686654189569  1049264159894851584           0.0        3.0\n",
       "3451  1653912019400048641  1027615651043713025           2.0        1.0\n",
       "3452  1654274478178996224  1489701364418572288           0.0        0.0\n",
       "3453  1654274156316311553  1098680959396921344           0.0        0.0\n",
       "\n",
       "[3454 rows x 4 columns]"
      ]
     },
     "execution_count": 13,
     "metadata": {},
     "output_type": "execute_result"
    }
   ],
   "source": [
    "spark.sql(\"SELECT * FROM facts.users_tweets_processed\").toPandas()"
   ]
  },
  {
   "cell_type": "code",
   "execution_count": 12,
   "id": "671a2310-499a-4caf-935b-89760c371437",
   "metadata": {},
   "outputs": [
    {
     "data": {
      "text/html": [
       "<table border='1'>\n",
       "<tr><th></th></tr>\n",
       "</table>\n"
      ],
      "text/plain": [
       "++\n",
       "||\n",
       "++\n",
       "++"
      ]
     },
     "execution_count": 12,
     "metadata": {},
     "output_type": "execute_result"
    }
   ],
   "source": [
    "spark.sql('''\n",
    "CREATE EXTERNAL TABLE IF NOT EXISTS facts.totals_mertics_processed (\n",
    "tweet_id STRING,\n",
    "user_id STRING,\n",
    "place_id STRING,\n",
    "media_id STRING,\n",
    "count_weekend_tweets INT,\n",
    "count_week_tweets INT,\n",
    "verified_user_count INT,\n",
    "protected_user_count INT,\n",
    "high_popularity_user_count INT,\n",
    "middle_popularity_user_count INT,\n",
    "low_popularity_user_count INT,\n",
    "photo_media_count INT,\n",
    "video_media_count INT,\n",
    "city_count INT,\n",
    "limited_reply_tweet_count INT\n",
    ")\n",
    "LOCATION 'twitter-processed-data.totals_mertics_processed'  ''')"
   ]
  },
  {
   "cell_type": "code",
   "execution_count": 13,
   "id": "96fa128b-1529-4eae-a680-22f94bc56ec7",
   "metadata": {},
   "outputs": [
    {
     "data": {
      "text/html": [
       "<table border='1'>\n",
       "<tr><th></th></tr>\n",
       "</table>\n"
      ],
      "text/plain": [
       "++\n",
       "||\n",
       "++\n",
       "++"
      ]
     },
     "execution_count": 13,
     "metadata": {},
     "output_type": "execute_result"
    }
   ],
   "source": [
    "spark.sql('''\n",
    "INSERT INTO TABLE facts.totals_mertics_processed\n",
    "SELECT\n",
    "    null as tweet_id,\n",
    "    null as user_id,\n",
    "    null as place_id,\n",
    "    null as media_id,\n",
    "    COUNT(DISTINCT CASE WHEN dayofweek(from_unixtime(UNIX_TIMESTAMP(t.tweet_date, 'yyyy-MM-dd HH:mm:ss'))) in (6,7) THEN t.tweet_id END) AS count_weekend_tweets,\n",
    "    COUNT(DISTINCT CASE WHEN dayofweek(from_unixtime(UNIX_TIMESTAMP(t.tweet_date, 'yyyy-MM-dd HH:mm:ss'))) not in (6,7) THEN t.tweet_id END) AS count_week_tweets,\n",
    "    COUNT(DISTINCT CASE WHEN u.verfied = true THEN u.user_id ELSE NULL END) AS verified_user_count,\n",
    "    COUNT(DISTINCT CASE WHEN u.protected = true THEN u.user_id ELSE NULL END) AS protected_user_count,\n",
    "    COUNT(DISTINCT CASE WHEN u.user_popularity = 'High' THEN u.user_id ELSE NULL END) AS high_popularity_user_count,\n",
    "    COUNT(DISTINCT CASE WHEN u.user_popularity = 'Middle' THEN u.user_id ELSE NULL END) AS middle_popularity_user_count,\n",
    "    COUNT(DISTINCT CASE WHEN u.user_popularity = 'Low' THEN u.user_id ELSE NULL END) AS low_popularity_user_count,\n",
    "    COUNT(DISTINCT CASE WHEN m.media_type = 'photo' THEN m.media_id ELSE NULL END) AS photo_media_count,\n",
    "    COUNT(DISTINCT CASE WHEN m.media_type = 'video' THEN m.media_id ELSE NULL END) AS video_media_count,\n",
    "    COUNT(DISTINCT CASE WHEN p.place_type = 'city' THEN p.place_id ELSE NULL END) AS city_count,\n",
    "    COUNT(DISTINCT CASE WHEN t.who_can_reply != 'everyone' THEN t.tweet_id ELSE NULL END) AS limited_reply_tweet_count\n",
    "FROM\n",
    "    twitter_raw_data.tweet_data_raw t\n",
    "    LEFT JOIN twitter_raw_data.user_data_raw u ON t.author_id = u.user_id\n",
    "    LEFT JOIN twitter_raw_data.media_data_raw m ON array_contains(t.media_ids, m.media_id)\n",
    "    LEFT JOIN twitter_raw_data.place_data_raw p ON t.tweet_location = p.place_id\n",
    "''')"
   ]
  },
  {
   "cell_type": "code",
   "execution_count": 14,
   "id": "00a7edab-0b98-4a28-99e1-87a19e3632e3",
   "metadata": {},
   "outputs": [
    {
     "data": {
      "text/html": [
       "<div>\n",
       "<style scoped>\n",
       "    .dataframe tbody tr th:only-of-type {\n",
       "        vertical-align: middle;\n",
       "    }\n",
       "\n",
       "    .dataframe tbody tr th {\n",
       "        vertical-align: top;\n",
       "    }\n",
       "\n",
       "    .dataframe thead th {\n",
       "        text-align: right;\n",
       "    }\n",
       "</style>\n",
       "<table border=\"1\" class=\"dataframe\">\n",
       "  <thead>\n",
       "    <tr style=\"text-align: right;\">\n",
       "      <th></th>\n",
       "      <th>tweet_id</th>\n",
       "      <th>user_id</th>\n",
       "      <th>place_id</th>\n",
       "      <th>media_id</th>\n",
       "      <th>count_weekend_tweets</th>\n",
       "      <th>count_week_tweets</th>\n",
       "      <th>verified_user_count</th>\n",
       "      <th>protected_user_count</th>\n",
       "      <th>high_popularity_user_count</th>\n",
       "      <th>middle_popularity_user_count</th>\n",
       "      <th>low_popularity_user_count</th>\n",
       "      <th>photo_media_count</th>\n",
       "      <th>video_media_count</th>\n",
       "      <th>city_count</th>\n",
       "      <th>limited_reply_tweet_count</th>\n",
       "    </tr>\n",
       "  </thead>\n",
       "  <tbody>\n",
       "    <tr>\n",
       "      <th>0</th>\n",
       "      <td>None</td>\n",
       "      <td>None</td>\n",
       "      <td>None</td>\n",
       "      <td>None</td>\n",
       "      <td>499</td>\n",
       "      <td>985</td>\n",
       "      <td>53</td>\n",
       "      <td>0</td>\n",
       "      <td>117</td>\n",
       "      <td>250</td>\n",
       "      <td>971</td>\n",
       "      <td>200</td>\n",
       "      <td>65</td>\n",
       "      <td>4</td>\n",
       "      <td>28</td>\n",
       "    </tr>\n",
       "  </tbody>\n",
       "</table>\n",
       "</div>"
      ],
      "text/plain": [
       "  tweet_id user_id place_id media_id  count_weekend_tweets  count_week_tweets  \\\n",
       "0     None    None     None     None                   499                985   \n",
       "\n",
       "   verified_user_count  protected_user_count  high_popularity_user_count  \\\n",
       "0                   53                     0                         117   \n",
       "\n",
       "   middle_popularity_user_count  low_popularity_user_count  photo_media_count  \\\n",
       "0                           250                        971                200   \n",
       "\n",
       "   video_media_count  city_count  limited_reply_tweet_count  \n",
       "0                 65           4                         28  "
      ]
     },
     "execution_count": 14,
     "metadata": {},
     "output_type": "execute_result"
    }
   ],
   "source": [
    "spark.sql(\"SELECT * FROM facts.totals_mertics_processed\").toPandas()"
   ]
  },
  {
   "cell_type": "code",
   "execution_count": 14,
   "id": "76bb5b6b-18ba-46bd-8ff1-0e4378ebb68f",
   "metadata": {},
   "outputs": [],
   "source": [
    "hash_df = spark.sql(\"SELECT hashtags_list FROM twitter_raw_data.tweet_data_raw WHERE SIZE(hashtags_list) > 0\")"
   ]
  },
  {
   "cell_type": "code",
   "execution_count": 15,
   "id": "fe595009-3093-4bd2-9051-e57fe61afb4f",
   "metadata": {},
   "outputs": [],
   "source": [
    "hash_counts = (\n",
    "    hash_df.select(explode(\"hashtags_list\").alias(\"hashtag\"))\n",
    "      .groupBy(\"hashtag\")\n",
    "      .agg(count(\"*\").alias(\"count\"))\n",
    ")"
   ]
  },
  {
   "cell_type": "code",
   "execution_count": 16,
   "id": "5455da5c-f3d6-49c1-a301-4acd788b1025",
   "metadata": {},
   "outputs": [
    {
     "name": "stdout",
     "output_type": "stream",
     "text": [
      "+--------------------+-----+\n",
      "|             hashtag|count|\n",
      "+--------------------+-----+\n",
      "|     #bettertogether|    1|\n",
      "|      #drinksforkids|    2|\n",
      "|    #criminaljustice|    1|\n",
      "|       #TwitterSpace|   20|\n",
      "|              #cypto|    1|\n",
      "|#RealEstateRecrui...|    1|\n",
      "|   #driverseducation|    2|\n",
      "|               #100X|    1|\n",
      "|               #hope|    1|\n",
      "|         #femboycdmx|    4|\n",
      "|          #beautiful|    5|\n",
      "|  #AITCMakesitHappen|    1|\n",
      "|          #avmapping|    1|\n",
      "|          #economics|    2|\n",
      "|#ConstructionSafe...|    3|\n",
      "|          #Engineeri|    2|\n",
      "|         #artificial|    3|\n",
      "|                #LFC|    1|\n",
      "|         #seniorcare|    1|\n",
      "|                #OTD|    2|\n",
      "+--------------------+-----+\n",
      "only showing top 20 rows\n",
      "\n"
     ]
    }
   ],
   "source": [
    "print(hash_counts)"
   ]
  },
  {
   "cell_type": "code",
   "execution_count": 17,
   "id": "98465099-91f3-476e-90be-c28bf5473128",
   "metadata": {},
   "outputs": [],
   "source": [
    "#hash_counts_dict = dict(hash_counts.rdd.map(lambda row: (row[\"hashtag\"], row[\"count\"])).collect())\n",
    "\n",
    "top_hash = hash_counts.orderBy(\"count\", ascending=False).limit(10).collect()"
   ]
  },
  {
   "cell_type": "code",
   "execution_count": 18,
   "id": "bd195114-eb39-416b-81f1-bd9a419e0785",
   "metadata": {},
   "outputs": [
    {
     "name": "stdout",
     "output_type": "stream",
     "text": [
      "[Row(hashtag='#NBA', count=103), Row(hashtag='#JordanNeely', count=100), Row(hashtag='#TigrayGenocide', count=78), Row(hashtag='#grindfacetv', count=50), Row(hashtag='#technology', count=48), Row(hashtag='#AI', count=47), Row(hashtag='#Bitcoin', count=25), Row(hashtag='#bugbounty', count=24), Row(hashtag='#California', count=23), Row(hashtag='#gasprices', count=22)]\n"
     ]
    }
   ],
   "source": [
    "print(top_hash)"
   ]
  },
  {
   "cell_type": "code",
   "execution_count": 19,
   "id": "6f397d37-133d-4229-b1a8-8db857e022ba",
   "metadata": {},
   "outputs": [
    {
     "data": {
      "image/png": "[encoded data removed]",
      "text/plain": [
       "<Figure size 1440x720 with 1 Axes>"
      ]
     },
     "metadata": {},
     "output_type": "display_data"
    }
   ],
   "source": [
    "# Convert top_hash to a Spark DataFrame\n",
    "top_hash_df = spark.createDataFrame(top_hash)\n",
    "\n",
    "# Convert to a Pandas DataFrame\n",
    "top_hash_pd = top_hash_df.toPandas()\n",
    "\n",
    "# Set up the chart\n",
    "sns.set_style(\"whitegrid\")\n",
    "plt.figure(figsize=(20, 10))\n",
    "plt.title(\"Top 10 Hashtags and Their Counts\")\n",
    "plt.xlabel(\"Hashtag\")\n",
    "plt.ylabel(\"Count\")\n",
    "\n",
    "# Plot the data\n",
    "sns.barplot(x=\"hashtag\", y=\"count\", data=top_hash_pd)\n",
    "\n",
    "# Show the chart\n",
    "plt.show()"
   ]
  },
  {
   "cell_type": "code",
   "execution_count": 7,
   "id": "88942a5d-7977-4389-a7ab-025ab53b6ade",
   "metadata": {},
   "outputs": [],
   "source": [
    "popular_users = spark.table(\"twitter_raw_data.user_data_raw\") \\\n",
    "    .select(\"username\", col(\"followers_count\").cast(\"int\")) \\\n",
    "    .groupBy(\"username\") \\\n",
    "    .agg({\"followers_count\": \"max\"}) \\\n",
    "    .withColumnRenamed(\"max(followers_count)\", \"followers_count\") \\\n",
    "    .orderBy(desc(\"followers_count\")) \\\n",
    "    .limit(10) \\\n",
    "    .toPandas()"
   ]
  },
  {
   "cell_type": "code",
   "execution_count": 8,
   "id": "5dad8c07-cc13-40c2-9147-b07179a95b65",
   "metadata": {},
   "outputs": [
    {
     "data": {
      "text/html": [
       "<div>\n",
       "<style scoped>\n",
       "    .dataframe tbody tr th:only-of-type {\n",
       "        vertical-align: middle;\n",
       "    }\n",
       "\n",
       "    .dataframe tbody tr th {\n",
       "        vertical-align: top;\n",
       "    }\n",
       "\n",
       "    .dataframe thead th {\n",
       "        text-align: right;\n",
       "    }\n",
       "</style>\n",
       "<table border=\"1\" class=\"dataframe\">\n",
       "  <thead>\n",
       "    <tr style=\"text-align: right;\">\n",
       "      <th></th>\n",
       "      <th>username</th>\n",
       "      <th>followers_count</th>\n",
       "    </tr>\n",
       "  </thead>\n",
       "  <tbody>\n",
       "    <tr>\n",
       "      <th>0</th>\n",
       "      <td>okezonenews</td>\n",
       "      <td>1848689</td>\n",
       "    </tr>\n",
       "    <tr>\n",
       "      <th>1</th>\n",
       "      <td>DiscoverMag</td>\n",
       "      <td>1255317</td>\n",
       "    </tr>\n",
       "    <tr>\n",
       "      <th>2</th>\n",
       "      <td>KicksDeals</td>\n",
       "      <td>472038</td>\n",
       "    </tr>\n",
       "    <tr>\n",
       "      <th>3</th>\n",
       "      <td>EvanKirstel</td>\n",
       "      <td>345254</td>\n",
       "    </tr>\n",
       "    <tr>\n",
       "      <th>4</th>\n",
       "      <td>Movie__01</td>\n",
       "      <td>328489</td>\n",
       "    </tr>\n",
       "    <tr>\n",
       "      <th>5</th>\n",
       "      <td>ADB_HQ</td>\n",
       "      <td>258222</td>\n",
       "    </tr>\n",
       "    <tr>\n",
       "      <th>6</th>\n",
       "      <td>Doutporn</td>\n",
       "      <td>224000</td>\n",
       "    </tr>\n",
       "    <tr>\n",
       "      <th>7</th>\n",
       "      <td>machinelearnflx</td>\n",
       "      <td>157760</td>\n",
       "    </tr>\n",
       "    <tr>\n",
       "      <th>8</th>\n",
       "      <td>DataScienceDojo</td>\n",
       "      <td>144693</td>\n",
       "    </tr>\n",
       "    <tr>\n",
       "      <th>9</th>\n",
       "      <td>DeAngelisCorey</td>\n",
       "      <td>136956</td>\n",
       "    </tr>\n",
       "  </tbody>\n",
       "</table>\n",
       "</div>"
      ],
      "text/plain": [
       "          username  followers_count\n",
       "0      okezonenews          1848689\n",
       "1      DiscoverMag          1255317\n",
       "2       KicksDeals           472038\n",
       "3      EvanKirstel           345254\n",
       "4        Movie__01           328489\n",
       "5           ADB_HQ           258222\n",
       "6         Doutporn           224000\n",
       "7  machinelearnflx           157760\n",
       "8  DataScienceDojo           144693\n",
       "9   DeAngelisCorey           136956"
      ]
     },
     "execution_count": 8,
     "metadata": {},
     "output_type": "execute_result"
    }
   ],
   "source": [
    "popular_users"
   ]
  },
  {
   "cell_type": "code",
   "execution_count": 9,
   "id": "e999a426-2354-4cb0-aaf4-9c5b2dff2de5",
   "metadata": {},
   "outputs": [
    {
     "data": {
      "image/png": "[encoded data removed]",
      "text/plain": [
       "<Figure size 1440x720 with 1 Axes>"
      ]
     },
     "metadata": {},
     "output_type": "display_data"
    }
   ],
   "source": [
    "# Set up the chart\n",
    "sns.set_style(\"whitegrid\")\n",
    "plt.figure(figsize=(20, 10))\n",
    "plt.title(\"Top 10 Popular Users Based on Follower Count\")\n",
    "plt.xlabel(\"User\")\n",
    "plt.ylabel(\"Follower Count\")\n",
    "\n",
    "# Define a list of colors for the columns\n",
    "colors = ['blue', 'orange', 'green', 'red', 'purple', 'brown', 'pink', 'gray', 'olive', 'cyan']\n",
    "\n",
    "# Plot the data\n",
    "plt.bar(popular_users[\"username\"], popular_users[\"followers_count\"], color=colors)\n",
    "\n",
    "# Show the chart\n",
    "plt.show()"
   ]
  },
  {
   "cell_type": "code",
   "execution_count": 42,
   "id": "ed2b9597-582a-4bab-b176-021cece1f0de",
   "metadata": {},
   "outputs": [],
   "source": [
    "# Convert tweet_data_raw to a Spark DataFrame\n",
    "tweet_data = spark.sql(\"SELECT date_format(from_unixtime(UNIX_TIMESTAMP(tweet_date, 'yyyy-MM-dd HH:mm:ss')), 'EEEE') as week_day FROM twitter_raw_data.tweet_data_raw\")\n",
    "\n",
    "\n",
    "# Group by week_day and count the number of tweets\n",
    "tweet_counts = tweet_data.groupBy(\"week_day\").count()\n",
    "\n",
    "# Convert to a Pandas DataFrame\n",
    "tweet_counts_pd = tweet_counts.toPandas()"
   ]
  },
  {
   "cell_type": "code",
   "execution_count": 43,
   "id": "fe972d3d-1b8a-48fd-b890-473d8231ce09",
   "metadata": {},
   "outputs": [
    {
     "data": {
      "text/html": [
       "<div>\n",
       "<style scoped>\n",
       "    .dataframe tbody tr th:only-of-type {\n",
       "        vertical-align: middle;\n",
       "    }\n",
       "\n",
       "    .dataframe tbody tr th {\n",
       "        vertical-align: top;\n",
       "    }\n",
       "\n",
       "    .dataframe thead th {\n",
       "        text-align: right;\n",
       "    }\n",
       "</style>\n",
       "<table border=\"1\" class=\"dataframe\">\n",
       "  <thead>\n",
       "    <tr style=\"text-align: right;\">\n",
       "      <th></th>\n",
       "      <th>week_day</th>\n",
       "      <th>count</th>\n",
       "    </tr>\n",
       "  </thead>\n",
       "  <tbody>\n",
       "    <tr>\n",
       "      <th>0</th>\n",
       "      <td>Wednesday</td>\n",
       "      <td>626</td>\n",
       "    </tr>\n",
       "    <tr>\n",
       "      <th>1</th>\n",
       "      <td>Friday</td>\n",
       "      <td>946</td>\n",
       "    </tr>\n",
       "    <tr>\n",
       "      <th>2</th>\n",
       "      <td>Thursday</td>\n",
       "      <td>1027</td>\n",
       "    </tr>\n",
       "  </tbody>\n",
       "</table>\n",
       "</div>"
      ],
      "text/plain": [
       "    week_day  count\n",
       "0  Wednesday    626\n",
       "1     Friday    946\n",
       "2   Thursday   1027"
      ]
     },
     "execution_count": 43,
     "metadata": {},
     "output_type": "execute_result"
    }
   ],
   "source": [
    "tweet_counts_pd"
   ]
  },
  {
   "cell_type": "code",
   "execution_count": 44,
   "id": "5957d6f8-0c7b-4de9-9428-6980c2387ec7",
   "metadata": {},
   "outputs": [
    {
     "data": {
      "image/png": "[encoded data removed]",
      "text/plain": [
       "<Figure size 720x360 with 1 Axes>"
      ]
     },
     "metadata": {},
     "output_type": "display_data"
    }
   ],
   "source": [
    "# Define the order of weekdays\n",
    "weekdays_order = [\"Monday\", \"Tuesday\", \"Wednesday\", \"Thursday\", \"Friday\", \"Saturday\", \"Sunday\"]\n",
    "\n",
    "# Convert to a Pandas DataFrame\n",
    "tweet_counts_pd = tweet_counts.toPandas()\n",
    "\n",
    "# Create the plot\n",
    "sns.set_style(\"whitegrid\")\n",
    "plt.figure(figsize=(10, 5))\n",
    "plt.title(\"Number of Tweets by Weekday\")\n",
    "plt.xlabel(\"Weekday\")\n",
    "plt.ylabel(\"Number of Tweets\")\n",
    "sns.barplot(x=tweet_counts_pd[\"week_day\"], y=tweet_counts_pd[\"count\"], order=weekdays_order)\n",
    "plt.show()"
   ]
  },
  {
   "cell_type": "code",
   "execution_count": 49,
   "id": "64a5c417-1deb-4770-812e-cbf9c91eb66b",
   "metadata": {},
   "outputs": [],
   "source": [
    "media_counts = spark.sql(\"SELECT media_type, COUNT(media_type) as count FROM twitter_raw_data.media_data_raw WHERE media_type != 'NaN' GROUP BY media_type\")"
   ]
  },
  {
   "cell_type": "code",
   "execution_count": 50,
   "id": "e5f5cde9-c9a2-4fa7-be88-d55a592aecde",
   "metadata": {},
   "outputs": [
    {
     "data": {
      "text/html": [
       "<table border='1'>\n",
       "<tr><th>media_type</th><th>count</th></tr>\n",
       "<tr><td>video</td><td>65</td></tr>\n",
       "<tr><td>photo</td><td>200</td></tr>\n",
       "<tr><td>animated_gif</td><td>9</td></tr>\n",
       "</table>\n"
      ],
      "text/plain": [
       "+------------+-----+\n",
       "|  media_type|count|\n",
       "+------------+-----+\n",
       "|       video|   65|\n",
       "|       photo|  200|\n",
       "|animated_gif|    9|\n",
       "+------------+-----+"
      ]
     },
     "execution_count": 50,
     "metadata": {},
     "output_type": "execute_result"
    }
   ],
   "source": [
    "media_counts"
   ]
  },
  {
   "cell_type": "code",
   "execution_count": 51,
   "id": "114b4800-5464-4540-ac64-ac74e0e3bc2d",
   "metadata": {},
   "outputs": [
    {
     "data": {
      "image/png": "[encoded data removed]",
      "text/plain": [
       "<Figure size 720x360 with 1 Axes>"
      ]
     },
     "metadata": {},
     "output_type": "display_data"
    }
   ],
   "source": [
    "# Set up the chart\n",
    "sns.set_style(\"whitegrid\")\n",
    "plt.figure(figsize=(10, 5))\n",
    "plt.title(\"Count of Each Media Type\")\n",
    "plt.xlabel(\"Media Type\")\n",
    "plt.ylabel(\"Count\")\n",
    "\n",
    "# Define the colors for the bars\n",
    "colors = ['blue', 'orange', 'green', 'red', 'purple', 'brown', 'pink', 'gray', 'olive', 'cyan']\n",
    "\n",
    "# Convert count column to a list\n",
    "count_list = media_counts.select(\"count\").rdd.flatMap(lambda x: x).collect()\n",
    "\n",
    "# Plot the data\n",
    "plt.bar(media_counts.select(\"media_type\").rdd.flatMap(lambda x: x).collect(), count_list, color=colors)\n",
    "\n",
    "# Show the chart\n",
    "plt.show()"
   ]
  },
  {
   "cell_type": "code",
   "execution_count": 61,
   "id": "5842fa59-4130-4daf-8ba1-3e40480e0e30",
   "metadata": {},
   "outputs": [],
   "source": [
    "# Read the data from Hive table into a Pandas DataFrame\n",
    "user_data_raw_df = spark.sql(\"SELECT user_popularity, COUNT(*) AS count FROM twitter_raw_data.user_data_raw WHERE user_popularity != 'null' GROUP BY user_popularity\")"
   ]
  },
  {
   "cell_type": "code",
   "execution_count": 62,
   "id": "dc24be53-ddea-4f57-9657-6026da844a85",
   "metadata": {},
   "outputs": [
    {
     "data": {
      "text/html": [
       "<table border='1'>\n",
       "<tr><th>user_popularity</th><th>count</th></tr>\n",
       "<tr><td>High</td><td>242</td></tr>\n",
       "<tr><td>Low</td><td>1567</td></tr>\n",
       "<tr><td>Middle</td><td>416</td></tr>\n",
       "</table>\n"
      ],
      "text/plain": [
       "+---------------+-----+\n",
       "|user_popularity|count|\n",
       "+---------------+-----+\n",
       "|           High|  242|\n",
       "|            Low| 1567|\n",
       "|         Middle|  416|\n",
       "+---------------+-----+"
      ]
     },
     "execution_count": 62,
     "metadata": {},
     "output_type": "execute_result"
    }
   ],
   "source": [
    "user_data_raw_df"
   ]
  },
  {
   "cell_type": "code",
   "execution_count": 63,
   "id": "53e686fd-c86f-4c70-a97f-97130742e091",
   "metadata": {},
   "outputs": [
    {
     "data": {
      "image/png": "[encoded data removed]",
      "text/plain": [
       "<Figure size 720x360 with 1 Axes>"
      ]
     },
     "metadata": {},
     "output_type": "display_data"
    }
   ],
   "source": [
    "# Set up the chart\n",
    "plt.figure(figsize=(10, 5))\n",
    "plt.title(\"Count of User Popularity\")\n",
    "plt.xlabel(\"User Popularity\")\n",
    "plt.ylabel(\"Count\")\n",
    "\n",
    "# Define the colors for the bars\n",
    "colors = ['blue', 'orange', 'green', 'red', 'purple', 'brown', 'pink', 'gray', 'olive', 'cyan']\n",
    "\n",
    "# Convert count column to a list\n",
    "count_list = user_data_raw_df.select(\"count\").rdd.flatMap(lambda x: x).collect()\n",
    "\n",
    "\n",
    "# Plot the data\n",
    "plt.bar(user_data_raw_df.select(\"user_popularity\").rdd.flatMap(lambda x: x).collect(), count_list, color=colors)\n",
    "\n",
    "# Show the chart\n",
    "plt.show()"
   ]
  },
  {
   "cell_type": "code",
   "execution_count": 67,
   "id": "1907eb5a-6a8c-4e8c-9f5a-d06f331e93bc",
   "metadata": {},
   "outputs": [],
   "source": [
    "# Create a Bokeh figure for the first chart\n",
    "top_hash_pd_source = ColumnDataSource(top_hash_pd)\n",
    "p1 = figure(x_range=top_hash_pd[\"hashtag\"], plot_height=500, plot_width=1000, title=\"Top 10 Hashtags and Their Counts\")\n",
    "p1.vbar(x=\"hashtag\", top=\"count\", width=0.9, source=top_hash_pd_source, line_color=\"white\", fill_color=factor_cmap('hashtag', palette=Spectral10, factors=top_hash_pd['hashtag']))\n",
    "\n",
    "# Add hover tool\n",
    "hover = HoverTool(tooltips=[(\"Hashtag\", \"@hashtag\"), (\"Count\", \"@count\")])\n",
    "p1.add_tools(hover)\n",
    "\n",
    "\n",
    "# Create a Bokeh figure for the second chart\n",
    "popular_users_source = ColumnDataSource(popular_users)\n",
    "p2 = figure(x_range=popular_users[\"username\"], plot_height=500, plot_width=1000, title=\"Top 10 Popular Users Based on Follower Count\")\n",
    "p2.vbar(x=\"username\", top=\"followers_count\", width=0.9, source=popular_users_source, line_color=\"white\", fill_color=factor_cmap('username', palette=Spectral10, factors=popular_users['username']))\n",
    "\n",
    "# Format y-axis ticks as thousands\n",
    "p2.yaxis.formatter = NumeralTickFormatter(format='0.0a')\n",
    "\n",
    "\n",
    "# Add hover tool\n",
    "hover = HoverTool(tooltips=[(\"Username\", \"@username\"), (\"Follower Count\", \"@followers_count\")])\n",
    "p2.add_tools(hover)\n",
    "\n",
    "\n",
    "\n",
    "# Create a Bokeh figure for the third chart\n",
    "p3 = figure(x_range=weekdays_order, plot_height=500, plot_width=1000, title=\"Number of Tweets by Weekday\")\n",
    "p3.vbar(x=\"week_day\", top=\"count\", width=0.9, source=tweet_counts_pd, line_color=\"white\", fill_color=factor_cmap('week_day', palette=Spectral10, factors=weekdays_order))\n",
    "\n",
    "# Add hover tool\n",
    "hover = HoverTool(tooltips=[(\"Weekday\", \"@week_day\"), (\"Count\", \"@count\")])\n",
    "p3.add_tools(hover)\n",
    "\n",
    "\n",
    "# Create a Bokeh figure for the forth chart\n",
    "media_counts_pd_source = ColumnDataSource(media_counts.toPandas())\n",
    "p4 = figure(x_range=media_counts_pd_source.data[\"media_type\"], plot_height=500, plot_width=1000, title=\"Count of Each Media Type\")\n",
    "p4.vbar(x=\"media_type\", top=\"count\", width=0.9, source=media_counts_pd_source, line_color=\"white\", fill_color=factor_cmap('media_type', palette=colors, factors=media_counts_pd_source.data[\"media_type\"]))\n",
    "\n",
    "# Add hover tool\n",
    "hover = HoverTool(tooltips=[(\"Media Type\", \"@media_type\"), (\"Count\", \"@count\")])\n",
    "p4.add_tools(hover)\n",
    "\n",
    "\n",
    "\n",
    "# Create a Bokeh figure for the fifth chart\n",
    "user_data_pd = user_data_raw_df.toPandas()\n",
    "\n",
    "# Create a Bokeh figure\n",
    "user_data_source = ColumnDataSource(user_data_pd)\n",
    "p5 = figure(x_range=user_data_pd[\"user_popularity\"], plot_height=500, plot_width=1000, title=\"Count of User Popularity\")\n",
    "p5.vbar(x=\"user_popularity\", top=\"count\", width=0.9, source=user_data_source, line_color=\"white\", fill_color=factor_cmap('user_popularity', palette=Spectral10, factors=user_data_pd['user_popularity']))\n",
    "\n",
    "# Add hover tool\n",
    "hover = HoverTool(tooltips=[(\"User Popularity\", \"@user_popularity\"), (\"Count\", \"@count\")], formatters={'@count': 'printf'})\n",
    "p5.add_tools(hover)\n",
    "\n",
    "\n"
   ]
  },
  {
   "cell_type": "code",
   "execution_count": 68,
   "id": "e3aa4cf6-f071-4099-bbff-ffed8ee45e51",
   "metadata": {},
   "outputs": [],
   "source": [
    "# Create a grid layout for the charts\n",
    "layout = gridplot([[p1], [p2], [p3], [p4],[p5]])"
   ]
  },
  {
   "cell_type": "code",
   "execution_count": 75,
   "id": "4c208753-d322-4af1-94a0-63d1000b4de8",
   "metadata": {},
   "outputs": [],
   "source": [
    "# Save the Bokeh figures to an HTML file\n",
    "from bokeh.resources import CDN\n",
    "from bokeh.embed import file_html\n",
    "html = file_html(layout, CDN, \"Twitter Charts\")\n",
    "with open(\"twitter_charts.html\", \"w\") as f:\n",
    "    f.write(html)"
   ]
  },
  {
   "cell_type": "code",
   "execution_count": 77,
   "id": "aafbffab-ed79-4770-924d-257060538259",
   "metadata": {},
   "outputs": [
    {
     "data": {
      "text/plain": [
       "False"
      ]
     },
     "execution_count": 77,
     "metadata": {},
     "output_type": "execute_result"
    }
   ],
   "source": [
    "# Open the file in a new browser window\n",
    "webbrowser.open_new_tab('twitter_charts.html')"
   ]
  },
  {
   "cell_type": "code",
   "execution_count": 78,
   "id": "99664b7d-b76b-43a9-aa5e-c2854dccddfa",
   "metadata": {},
   "outputs": [
    {
     "ename": "KeyboardInterrupt",
     "evalue": "",
     "output_type": "error",
     "traceback": [
      "\u001b[0;31m---------------------------------------------------------------------------\u001b[0m",
      "\u001b[0;31mKeyboardInterrupt\u001b[0m                         Traceback (most recent call last)",
      "\u001b[0;32m<ipython-input-78-c74af2254b35>\u001b[0m in \u001b[0;36m<module>\u001b[0;34m\u001b[0m\n\u001b[1;32m      1\u001b[0m \u001b[0;31m# Refresh the page every 5 minutes\u001b[0m\u001b[0;34m\u001b[0m\u001b[0;34m\u001b[0m\u001b[0;34m\u001b[0m\u001b[0m\n\u001b[1;32m      2\u001b[0m \u001b[0;32mwhile\u001b[0m \u001b[0;32mTrue\u001b[0m\u001b[0;34m:\u001b[0m\u001b[0;34m\u001b[0m\u001b[0;34m\u001b[0m\u001b[0m\n\u001b[0;32m----> 3\u001b[0;31m     \u001b[0mtime\u001b[0m\u001b[0;34m.\u001b[0m\u001b[0msleep\u001b[0m\u001b[0;34m(\u001b[0m\u001b[0;36m300\u001b[0m\u001b[0;34m)\u001b[0m\u001b[0;34m\u001b[0m\u001b[0;34m\u001b[0m\u001b[0m\n\u001b[0m\u001b[1;32m      4\u001b[0m     \u001b[0mwebbrowser\u001b[0m\u001b[0;34m.\u001b[0m\u001b[0mopen\u001b[0m\u001b[0;34m(\u001b[0m\u001b[0;34m'twitter_charts.html'\u001b[0m\u001b[0;34m,\u001b[0m \u001b[0mnew\u001b[0m\u001b[0;34m=\u001b[0m\u001b[0;36m0\u001b[0m\u001b[0;34m)\u001b[0m\u001b[0;34m\u001b[0m\u001b[0;34m\u001b[0m\u001b[0m\n\u001b[1;32m      5\u001b[0m     \u001b[0;31m#webbrowser.get('chrome').open_new_tab('twitter_charts.html')\u001b[0m\u001b[0;34m\u001b[0m\u001b[0;34m\u001b[0m\u001b[0;34m\u001b[0m\u001b[0m\n",
      "\u001b[0;31mKeyboardInterrupt\u001b[0m: "
     ]
    }
   ],
   "source": [
    "# Refresh the page every 5 minutes\n",
    "while True:\n",
    "    time.sleep(300)\n",
    "    webbrowser.open('twitter_charts.html', new=0)\n",
    "    #webbrowser.get('chrome').open_new_tab('twitter_charts.html')"
   ]
  },
  {
   "cell_type": "code",
   "execution_count": null,
   "id": "44cb4b65-c863-4080-a492-bb6ec2400feb",
   "metadata": {},
   "outputs": [],
   "source": []
  }
 ],
 "metadata": {
  "kernelspec": {
   "display_name": "Pyspark 2",
   "language": "python",
   "name": "pyspark2"
  },
  "language_info": {
   "codemirror_mode": {
    "name": "ipython",
    "version": 3
   },
   "file_extension": ".py",
   "mimetype": "text/x-python",
   "name": "python",
   "nbconvert_exporter": "python",
   "pygments_lexer": "ipython3",
   "version": "3.6.9"
  }
 },
 "nbformat": 4,
 "nbformat_minor": 5
}
